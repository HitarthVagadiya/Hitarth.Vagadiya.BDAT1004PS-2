{
 "cells": [
  {
   "cell_type": "markdown",
   "id": "d8414d31",
   "metadata": {},
   "source": [
    "Question 1\n",
    "Consider the following Python module:\n",
    "a = 0\n",
    "def b():\n",
    " global a\n",
    " a = c(a)\n",
    "def c(a):\n",
    " return a + 2\n",
    "After importing the module into the interpreter, you execute:\n",
    ">>> b()\n",
    ">>> b()\n",
    ">>> b()\n",
    ">>> a\n",
    "?\n",
    "What value is displayed when the last expression (a) is evaluated? Explain your\n",
    "answer by indicating what happens in every executed statement."
   ]
  },
  {
   "cell_type": "code",
   "execution_count": 2,
   "id": "7203a914",
   "metadata": {},
   "outputs": [],
   "source": [
    "a = 0\n",
    "def b():\n",
    " global a\n",
    " a = c(a)\n",
    "def c(a):\n",
    " return a + 2"
   ]
  },
  {
   "cell_type": "code",
   "execution_count": 3,
   "id": "0183d498",
   "metadata": {},
   "outputs": [
    {
     "data": {
      "text/plain": [
       "6"
      ]
     },
     "execution_count": 3,
     "metadata": {},
     "output_type": "execute_result"
    }
   ],
   "source": [
    "b()    #Initially,value of a is increamented by 2 as c(a) returns the global var(a) + 2. a = 2\n",
    "b()    #so, now the global a is increamented by 2 again. a = 4.\n",
    "b()    #Now, the global a is increamented again by 2. a = 6\n",
    "a    #therefore, prints the final value of a."
   ]
  },
  {
   "cell_type": "markdown",
   "id": "c12f4ca5",
   "metadata": {},
   "source": [
    "Question 2\n",
    "Function fileLength(), given to you, takes the name of a file as input and returns\n",
    "the length of the file:\n",
    ">>> fileLength('midterm.py')\n",
    "284\n",
    ">>> fileLength('idterm.py')\n",
    "Traceback (most recent call last):\n",
    "File \"<pyshell#34>\", line 1, in <module>\n",
    " fileLength('idterm.py')\n",
    "File \"/Users/me/midterm.py\", line 3, in fileLength\n",
    " infile = open(filename)\n",
    "FileNotFoundError: [Errno 2] No such file or directory:\n",
    "'idterm.py'\n",
    "As shown above, if the file cannot be found by the interpreter or if it cannot be read\n",
    "as a text file, an exception will be raised. Modify function fileLength() so that a\n",
    "friendly message is printed instead:\n",
    ">>> fileLength('midterm.py')\n",
    "358\n",
    ">>> fileLength('idterm.py')\n",
    "File idterm.py not found."
   ]
  },
  {
   "cell_type": "code",
   "execution_count": 7,
   "id": "0cda74fe",
   "metadata": {
    "scrolled": true
   },
   "outputs": [],
   "source": [
    "def file_length(file_name):\n",
    "    try:\n",
    "        file = open(file_name)\n",
    "        contents = file.read()\n",
    "        file.close()\n",
    "        print(len(contents))\n",
    "    except:\n",
    "        print(\"File \"+file_name+\" not found.\")"
   ]
  },
  {
   "cell_type": "code",
   "execution_count": 9,
   "id": "db8ab389",
   "metadata": {},
   "outputs": [
    {
     "name": "stdout",
     "output_type": "stream",
     "text": [
      "File idterm.py not found.\n"
     ]
    }
   ],
   "source": [
    "file_length('idterm.py')"
   ]
  },
  {
   "cell_type": "markdown",
   "id": "791d0a38",
   "metadata": {},
   "source": [
    "Question 3\n",
    "Write a class named Marsupial that can be used as shown below:\n",
    ">>> m = Marsupial()\n",
    ">>> m.put_in_pouch('doll')\n",
    ">>> m.put_in_pouch('firetruck')\n",
    ">>> m.put_in_pouch('kitten')\n",
    ">>> m.pouch_contents()\n",
    "['doll', 'firetruck', 'kitten']\n",
    "\n",
    "Now write a class named Kangaroo as a subclass of Marsupial that inherits all the\n",
    "attributes of Marsupial and also:\n",
    "a. extends the Marsupial __init__ constructor to take, as input, the\n",
    "coordinates x and y of the Kangaroo object,\n",
    "b. supports method jump that takes number values dx and dy as input and\n",
    "moves the kangaroo by dx units along the x-axis and by dy units along the yaxis, and\n",
    "c. overloads the __str__ operator so it behaves as shown below.\n",
    ">>> k = Kangaroo(0,0)\n",
    ">>> print(k)\n",
    "I am a Kangaroo located at coordinates (0,0)\n",
    ">>> k.put_in_pouch('doll')\n",
    ">>> k.put_in_pouch('firetruck')\n",
    ">>> k.put_in_pouch('kitten')\n",
    ">>> k.pouch_contents()\n",
    "['doll', 'firetruck', 'kitten']\n",
    ">>> k.jump(1,0)\n",
    ">>> k.jump(1,0)\n",
    ">>> k.jump(1,0)\n",
    ">>> print(k)\n",
    "I am a Kangaroo located at coordinates (3,0)"
   ]
  },
  {
   "cell_type": "code",
   "execution_count": 13,
   "id": "f7feafa2",
   "metadata": {},
   "outputs": [],
   "source": [
    "class Marsupial:\n",
    "    def __init__(self):\n",
    "        self.dictionary = []\n",
    "    \n",
    "    def put_in_pouch(self, item):\n",
    "        self.dictionary.append(item)\n",
    "    \n",
    "    def pouch_contents(self):\n",
    "        print(self.dictionary)\n",
    "\n",
    "class Kangaroo(Marsupial):\n",
    "    def __init__(self, dx, dy):\n",
    "        self.x = dx\n",
    "        self.y = dy\n",
    "        Marsupial.__init__(self)\n",
    "    \n",
    "    def jump(self, tdx, tdy):\n",
    "        self.x += tdx\n",
    "        self.y += tdy\n",
    "\n",
    "    def __str__(self):\n",
    "        string = \"I am a Kangaroo located at coordinates (%s, %s)\"%(self.x,self.y)\n",
    "        return string"
   ]
  },
  {
   "cell_type": "code",
   "execution_count": 14,
   "id": "fd089d29",
   "metadata": {},
   "outputs": [
    {
     "name": "stdout",
     "output_type": "stream",
     "text": [
      "['doll', 'firetruck', 'kitten']\n"
     ]
    }
   ],
   "source": [
    "m = Marsupial()\n",
    "m.put_in_pouch('doll')\n",
    "m.put_in_pouch('firetruck')\n",
    "m.put_in_pouch('kitten')\n",
    "m.pouch_contents()"
   ]
  },
  {
   "cell_type": "code",
   "execution_count": 15,
   "id": "7fb80c93",
   "metadata": {},
   "outputs": [
    {
     "name": "stdout",
     "output_type": "stream",
     "text": [
      "I am a Kangaroo located at coordinates (0, 0)\n",
      "['doll', 'firetruck', 'kitten']\n",
      "I am a Kangaroo located at coordinates (3, 0)\n"
     ]
    }
   ],
   "source": [
    "k = Kangaroo(0,0)\n",
    "print(k)\n",
    "k.put_in_pouch('doll')\n",
    "k.put_in_pouch('firetruck')\n",
    "k.put_in_pouch('kitten')\n",
    "k.pouch_contents()\n",
    "k.jump(1,0)\n",
    "k.jump(1,0)\n",
    "k.jump(1,0)\n",
    "print(k)"
   ]
  },
  {
   "cell_type": "markdown",
   "id": "df7f1805",
   "metadata": {},
   "source": [
    "Question 4\n",
    "Write function collatz() that takes a positive integer x as input and prints the\n",
    "Collatz sequence starting at x. A Collatz sequence is obtained by repeatedly applying\n",
    "this rule to the previous number x in the sequence:\n",
    "x = {\n",
    "𝑥/2 𝑖𝑓 𝑥 𝑖𝑠 𝑒𝑣𝑒𝑛\n",
    "3𝑥 + 1 𝑖𝑓 𝑥 𝑖𝑠 𝑜𝑑𝑑\n",
    "Your function should stop when the sequence gets to number 1. Your\n",
    "implementation must be recursive, without any loops.\n",
    ">>> collatz(1)\n",
    "1\n",
    ">>> collatz(10)\n",
    "10\n",
    "5\n",
    "16\n",
    "8\n",
    "4\n",
    "2\n",
    "1"
   ]
  },
  {
   "cell_type": "code",
   "execution_count": 1,
   "id": "8d994394",
   "metadata": {},
   "outputs": [],
   "source": [
    "def collatz(dx):\n",
    "    print(int(dx))\n",
    "    if int(dx)==1:\n",
    "        return\n",
    "    elif dx%2==0:\n",
    "        return collatz(dx//2)\n",
    "    else:\n",
    "        return collatz((3*dx)+1)"
   ]
  },
  {
   "cell_type": "code",
   "execution_count": 2,
   "id": "912caa7f",
   "metadata": {},
   "outputs": [
    {
     "name": "stdout",
     "output_type": "stream",
     "text": [
      "1\n"
     ]
    }
   ],
   "source": [
    "collatz(1)"
   ]
  },
  {
   "cell_type": "code",
   "execution_count": 3,
   "id": "6a5d34ed",
   "metadata": {},
   "outputs": [
    {
     "name": "stdout",
     "output_type": "stream",
     "text": [
      "10\n",
      "5\n",
      "16\n",
      "8\n",
      "4\n",
      "2\n",
      "1\n"
     ]
    }
   ],
   "source": [
    "collatz(10)"
   ]
  },
  {
   "cell_type": "markdown",
   "id": "caab2eb3",
   "metadata": {},
   "source": [
    "Question 5\n",
    "Write a recursive method binary() that takes a non-negative\n",
    "integer n and prints the binary representation of integer n.\n",
    ">>> binary(0)\n",
    "0\n",
    ">>> binary(1)\n",
    "1\n",
    ">>> binary(3)\n",
    "11\n",
    ">>> binary(9)\n",
    "1001\n"
   ]
  },
  {
   "cell_type": "code",
   "execution_count": 4,
   "id": "70a03a7e",
   "metadata": {},
   "outputs": [],
   "source": [
    "def binary(n):\n",
    "    if n<2:\n",
    "        return n\n",
    "    else:\n",
    "        return str(binary(n//2)) + str(n%2)"
   ]
  },
  {
   "cell_type": "code",
   "execution_count": 5,
   "id": "9fbb760d",
   "metadata": {},
   "outputs": [
    {
     "name": "stdout",
     "output_type": "stream",
     "text": [
      "0\n"
     ]
    }
   ],
   "source": [
    "print(binary(0))"
   ]
  },
  {
   "cell_type": "code",
   "execution_count": 6,
   "id": "388e7c99",
   "metadata": {},
   "outputs": [
    {
     "name": "stdout",
     "output_type": "stream",
     "text": [
      "1\n"
     ]
    }
   ],
   "source": [
    "print(binary(1))"
   ]
  },
  {
   "cell_type": "code",
   "execution_count": 7,
   "id": "30c45892",
   "metadata": {},
   "outputs": [
    {
     "name": "stdout",
     "output_type": "stream",
     "text": [
      "11\n"
     ]
    }
   ],
   "source": [
    "print(binary(3))"
   ]
  },
  {
   "cell_type": "code",
   "execution_count": 8,
   "id": "cbe8cf10",
   "metadata": {},
   "outputs": [
    {
     "name": "stdout",
     "output_type": "stream",
     "text": [
      "1001\n"
     ]
    }
   ],
   "source": [
    "print(binary(9))"
   ]
  },
  {
   "cell_type": "markdown",
   "id": "12632e5e",
   "metadata": {},
   "source": [
    "Question 6\n",
    "Implement a class named HeadingParser that can be used to parse an HTML\n",
    "document, and retrieve and print all the headings in the document. You should\n",
    "implement your class as a subclass of HTMLParser, defined in Standard Library\n",
    "module html.parser. When fed a string containing HTML code, your class should\n",
    "print the headings, one per line and in the order in which they appear in the\n",
    "document. Each heading should be indented as follows: an h1 heading should have\n",
    "indentation 0, and h2 heading should have indentation 1, etc. Test your\n",
    "implementation using w3c.html.\n",
    ">>> infile = open('w3c.html')\n",
    ">>> content = infile.read()\n",
    ">>> infile.close()\n",
    ">>> hp = HeadingParser()\n",
    ">>> hp.feed(content)\n",
    "W3C Mission\n",
    "Principles"
   ]
  },
  {
   "cell_type": "code",
   "execution_count": 7,
   "id": "78fab328",
   "metadata": {},
   "outputs": [],
   "source": [
    "import re\n",
    "from html.parser import HTMLParser\n",
    "\n",
    "class HeadingParser(HTMLParser):\n",
    "    def handle_starttag(self, tag, attrs):\n",
    "        global getH\n",
    "    \n",
    "        match = re.match(r'h(\\d)', tag, re.I)\n",
    "\n",
    "        if match:\n",
    "            #print(\"Encountered a start tag:\", tag)\n",
    "            print(match.group(1))\n",
    "            getH = int(match.group(1)) \n",
    "\n",
    "    def handle_endtag(self, tag):\n",
    "        match = re.match(r'h(\\d)', tag, re.I)\n",
    "\n",
    "        if match:\n",
    "            #print(\"Encountered an end tag :\", tag)\n",
    "            getH = 0\n",
    "\n",
    "    def handle_data(self, data):\n",
    "        if getH > 0:\n",
    "            tab = getH - 1\n",
    "            out = \"\\t\"*tab\n",
    "            print(out + data)\n"
   ]
  },
  {
   "cell_type": "code",
   "execution_count": 9,
   "id": "21adce3b",
   "metadata": {},
   "outputs": [
    {
     "name": "stdout",
     "output_type": "stream",
     "text": [
      "1\n",
      "W3C Mission\n",
      "\n",
      "\t\n",
      "2\n",
      "\tPrinciples\n",
      "\t\n",
      " \n",
      "\n",
      "\n",
      "\n",
      "\t\n",
      "\n"
     ]
    }
   ],
   "source": [
    "getH=0\n",
    "infile = open('w3c.html')\n",
    "content = infile.read()\n",
    "infile.close()\n",
    "hp = HeadingParser()\n",
    "hp.feed(content)"
   ]
  },
  {
   "cell_type": "markdown",
   "id": "fc9df735",
   "metadata": {},
   "source": [
    "Question 7\n",
    "Implement recursive function webdir() that takes as input: a URL (as a string) and\n",
    "non-negative integers depth and indent. Your function should visit every web\n",
    "page reachable from the starting URL web page in depth clicks or less, and print\n",
    "each web page's URL. As shown below, indentation, specified by indent, should\n",
    "be used to indicate the depth of a URL."
   ]
  },
  {
   "cell_type": "code",
   "execution_count": 25,
   "id": "b0c6b62e",
   "metadata": {},
   "outputs": [
    {
     "name": "stdout",
     "output_type": "stream",
     "text": [
      "http://reed.cs.depaul.edu/lperkovic/test1.html\n",
      "http://reed.cs.depaul.edu/lperkovic/test2.html\n"
     ]
    }
   ],
   "source": [
    "import requests\n",
    "from bs4 import BeautifulSoup\n",
    "\n",
    "\n",
    "def webdir(url, depth, indent):\n",
    "\tresp = requests.get(url)\n",
    "\tprint(url)\n",
    "\tif(depth == indent):\n",
    "\t\treturn\n",
    "\tsoup = BeautifulSoup(resp.text, 'html.parser')\n",
    "\tfor link in soup.findAll('a'):\n",
    "\t\tnew_link = link.get('href')\n",
    "\t\tif(new_link.startswith('http')):\n",
    "\t\t\twebdir(new_link, depth, indent+1)\n",
    "\n",
    "\n",
    "webdir('http://reed.cs.depaul.edu/lperkovic/test1.html', 2, 0)"
   ]
  },
  {
   "cell_type": "markdown",
   "id": "811a9da7",
   "metadata": {},
   "source": [
    "Question 8\n",
    "Write SQL queries on the below database table that return:\n",
    "a) All the temperature data.\n",
    "b) All the cities, but without repetition.\n",
    "c) All the records for India.\n",
    "d) All the Fall records.\n",
    "e) The city, country, and season for which the average rainfall is between 200\n",
    "and 400 millimeters.\n",
    "f) The city and country for which the average Fall temperature is above 20\n",
    "degrees, in increasing temperature order.\n",
    "g) The total annual rainfall for Cairo.\n",
    "h) The total rainfall for each season.\n",
    "City Country Season Temperature\n",
    "(C)\n",
    "Rainfall\n",
    "(mm)\n",
    "Mumbai India Winter 24.8 5.9\n",
    "Mumbai India Spring 28.4 16.2\n",
    "Mumbai India Summer 27.9 1549.4\n",
    "Mumbai India Fall 27.6 346.0\n",
    "London United Kingdom Winter 4.2 207.7\n",
    "London United Kingdom Spring 8.3 169.6\n",
    "London United Kingdom Summer 15.7 157.0\n",
    "London United Kingdom Fall 10.4 218.5\n",
    "Cairo Egypt Winter 13.6 16.5\n",
    "Cairo Egypt Spring 20.7 6.5\n",
    "Cairo Egypt Summer 27.7 0.1\n",
    "Cairo Egypt Fall 22.2 4.5 "
   ]
  },
  {
   "cell_type": "markdown",
   "id": "0c494063",
   "metadata": {},
   "source": [
    "A) All the temperature data.\n",
    "SELECT Temperature(C) as temp FROM TABLE\n",
    "\n",
    "B) All the cities, but without repetition.\n",
    "SELECT DISTINCT(City) FROM TABLE;\n",
    "\n",
    "C) All the records for India.\n",
    "SELECT * FROM TABLE WHERE Country='INDIA';\n",
    "\n",
    "D) All the Fall records.\n",
    "SELECT * FROM TABLE WHERE Season='Fall';\n",
    "\n",
    "E) The city, country, and season for which the average rainfall is between 200 and 400 millimeters.\n",
    "SELECT City,Country,Season FROM TABLE WHERE Rainfall (mm) as rainfall BETWEEN 200 AND 400;\n",
    "\n",
    "F) The city and country for which the average Fall temperature is above 20 degrees, in increasing temperature order.\n",
    "SELECT City,Country,Season FROM TABLE WHERE Rainfall (mm) as temperature > 20 ORDER BY temperature;\n",
    "\n",
    "G) The total annual rainfall for Cairo.\n",
    "step 1: Rename the Rainfall (mm) column as rainfall\n",
    "SELECT Rainfall (mm) AS rainfall,City from TABLE\n",
    "SELECT SUM (rainfall) FROM TABLE WHERE City = \"Cairo\";\n",
    "\n",
    "H) The total rainfall for each season.\n",
    "SELECT SUM(rainfall) FROM TABLE GROUP BY Season;"
   ]
  },
  {
   "cell_type": "markdown",
   "id": "307585dd",
   "metadata": {},
   "source": [
    "Question 9\n",
    ". Suppose list words is defined as follows:\n",
    ">>> words = ['The', 'quick', 'brown', 'fox', 'jumps', 'over',\n",
    "'the', 'lazy', 'dog']\n",
    "Write list comprehension expressions that use list words and generate the following\n",
    "lists:\n",
    "a) ['THE', 'QUICK', 'BROWN', 'FOX', 'JUMPS', 'OVER', 'THE',\n",
    "'LAZY', 'DOG']\n",
    "b) ['the', 'quick', 'brown', 'fox', 'jumps', 'over', 'the',\n",
    "'lazy', 'dog']\n",
    "c) [3, 5, 5, 3, 5, 4, 3, 4, 3] (the list of lengths of words in list\n",
    "words).\n",
    "d) [['THE', 'the', 3], ['QUICK', 'quick', 5], ['BROWN',\n",
    "'brown', 5], ['FOX', 'fox', 3], ['JUMPS', 'jumps', 5],\n",
    "['OVER', 'over', 4], ['THE', 'the', 3], ['LAZY', 'lazy',\n",
    "4], ['DOG', 'dog', 3]] (the list containing a list for every word of list\n",
    "words, where each list contains the word in uppercase and lowercase and the\n",
    "length of the word.)\n",
    "e) ['The', 'quick', 'brown', 'fox', 'jumps', 'over', 'the',\n",
    "'lazy', 'dog'] (the list of words in list words containing 4 or more\n",
    "characters.)"
   ]
  },
  {
   "cell_type": "code",
   "execution_count": 26,
   "id": "1e2bbd4c",
   "metadata": {},
   "outputs": [
    {
     "name": "stdout",
     "output_type": "stream",
     "text": [
      "['THE', 'QUICK', 'BROWN', 'FOX', 'JUMPS', 'OVER', 'THE', 'LAZY', 'DOG']\n"
     ]
    }
   ],
   "source": [
    "def Upper(words):\n",
    "    for i in range(len(words)):\n",
    "        #convert every word in uppercase\n",
    "        words[i]=words[i].upper()\n",
    "\n",
    "\n",
    "    return words\n",
    "\n",
    "\n",
    "words = ['The', 'quick', 'brown', 'fox', 'jumps', 'over', 'the', 'lazy', 'dog']\n",
    "#call function\n",
    "list_Upper=Upper(words)\n",
    "#print new list\n",
    "print(list_Upper)"
   ]
  },
  {
   "cell_type": "code",
   "execution_count": 27,
   "id": "187389ad",
   "metadata": {},
   "outputs": [
    {
     "name": "stdout",
     "output_type": "stream",
     "text": [
      "['the', 'quick', 'brown', 'fox', 'jumps', 'over', 'the', 'lazy', 'dog']\n"
     ]
    }
   ],
   "source": [
    "def Lower(words):\n",
    "    for i in range(len(words)):\n",
    "        #convert all words in lowercase\n",
    "        words[i]=words[i].lower()\n",
    "\n",
    "    return words\n",
    "\n",
    "\n",
    "words = ['The', 'quick', 'brown', 'fox', 'jumps', 'over', 'the', 'lazy', 'dog']\n",
    "#call method Lower()\n",
    "list_Lower=Lower(words)\n",
    "#Print new list\n",
    "print(list_Lower)"
   ]
  },
  {
   "cell_type": "code",
   "execution_count": 28,
   "id": "3b8da5bf",
   "metadata": {},
   "outputs": [
    {
     "name": "stdout",
     "output_type": "stream",
     "text": [
      "[3, 5, 5, 3, 5, 4, 3, 4, 3]\n"
     ]
    }
   ],
   "source": [
    "def Length(words):\n",
    "    for i in range(len(words)):\n",
    "        #convert list having length of each word\n",
    "        words[i]=len(words[i])\n",
    "\n",
    "    return words\n",
    "\n",
    "\n",
    "words = ['The', 'quick', 'brown', 'fox', 'jumps', 'over', 'the', 'lazy', 'dog']\n",
    "#call method\n",
    "list_Length=Length(words)\n",
    "#print new list\n",
    "print(list_Length)"
   ]
  },
  {
   "cell_type": "code",
   "execution_count": 29,
   "id": "3f8d2845",
   "metadata": {},
   "outputs": [
    {
     "name": "stdout",
     "output_type": "stream",
     "text": [
      "[['THE', 'the', 3], ['QUICK', 'quick', 5], ['BROWN', 'brown', 5], ['FOX', 'fox', 3], ['JUMPS', 'jumps', 5], ['OVER', 'over', 4], ['THE', 'the', 3], ['LAZY', 'lazy', 4], ['DOG', 'dog', 3]]\n"
     ]
    }
   ],
   "source": [
    "def Low_Up_Len(words):\n",
    "    list=[] #empty list that will store list of upper lower and length of words\n",
    "    temp=[] #list to create list of each word\n",
    "    for i in range(len(words)):\n",
    "        temp.append(words[i].upper())\n",
    "        temp.append(words[i].lower())\n",
    "        temp.append(len(words[i]))\n",
    "        #append temporary list to list\n",
    "        list.append(temp)\n",
    "\n",
    "        #initialize temporary list to empty list\n",
    "        temp=[]\n",
    "\n",
    "\n",
    "    return list\n",
    "\n",
    "\n",
    "words = ['The', 'quick', 'brown', 'fox', 'jumps', 'over', 'the', 'lazy', 'dog']\n",
    "\n",
    "#method call\n",
    "list=Low_Up_Len(words)\n",
    "\n",
    "#print new list\n",
    "print(list)"
   ]
  },
  {
   "cell_type": "code",
   "execution_count": 30,
   "id": "795a8c5c",
   "metadata": {},
   "outputs": [
    {
     "name": "stdout",
     "output_type": "stream",
     "text": [
      "['quick', 'brown', 'jumps', 'over', 'lazy']\n"
     ]
    }
   ],
   "source": [
    "def more_4(words):\n",
    "    list=[]\n",
    "    for i in range(len(words)):\n",
    "        #if word length is 4 or more character\n",
    "        if len(words[i])>=4:\n",
    "            \n",
    "            list.append(words[i])\n",
    "\n",
    "\n",
    "    return list\n",
    "\n",
    "\n",
    "words = ['The', 'quick', 'brown', 'fox', 'jumps', 'over', 'the', 'lazy', 'dog']\n",
    "#call method\n",
    "list=more_4(words)\n",
    "#print new list\n",
    "print(list)"
   ]
  }
 ],
 "metadata": {
  "kernelspec": {
   "display_name": "Python 3 (ipykernel)",
   "language": "python",
   "name": "python3"
  },
  "language_info": {
   "codemirror_mode": {
    "name": "ipython",
    "version": 3
   },
   "file_extension": ".py",
   "mimetype": "text/x-python",
   "name": "python",
   "nbconvert_exporter": "python",
   "pygments_lexer": "ipython3",
   "version": "3.9.12"
  }
 },
 "nbformat": 4,
 "nbformat_minor": 5
}
